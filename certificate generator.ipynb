{
 "cells": [
  {
   "cell_type": "code",
   "execution_count": 2,
   "id": "e9b24bf2",
   "metadata": {},
   "outputs": [],
   "source": [
    "from PIL import Image, ImageDraw, ImageFont\n",
    "import pandas as pd\n",
    "import os\n",
    "df = pd.read_csv('Book1.csv')\n",
    "font = ImageFont.truetype('arial.ttf',12)\n",
    "for index,j in df.iterrows():\n",
    "    img = Image.open('cert.jpg')\n",
    "    draw = ImageDraw.Draw(img)\n",
    "    draw.text(xy=(256,208),text='{}'.format(j['name']),fill=(0,0,0),font=font)\n",
    "    draw.text(xy=(200,228),text='{}'.format(j['sec']),fill=(0,0,0),font=font)\n",
    "    draw.text(xy=(320,228),text='{}'.format(j['date']),fill=(0,0,0),font=font)\n",
    "    draw.text(xy=(420,228),text='{}'.format(j['clg']),fill=(0,0,0),font=font)\n",
    "    img.save('pictures/{}.jpg'.format(j['name']))"
   ]
  },
  {
   "cell_type": "code",
   "execution_count": null,
   "id": "5df510c0",
   "metadata": {},
   "outputs": [],
   "source": []
  }
 ],
 "metadata": {
  "kernelspec": {
   "display_name": "Python 3 (ipykernel)",
   "language": "python",
   "name": "python3"
  },
  "language_info": {
   "codemirror_mode": {
    "name": "ipython",
    "version": 3
   },
   "file_extension": ".py",
   "mimetype": "text/x-python",
   "name": "python",
   "nbconvert_exporter": "python",
   "pygments_lexer": "ipython3",
   "version": "3.9.7"
  }
 },
 "nbformat": 4,
 "nbformat_minor": 5
}
